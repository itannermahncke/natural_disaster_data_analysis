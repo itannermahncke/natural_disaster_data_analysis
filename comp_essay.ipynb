{
 "cells": [
  {
   "cell_type": "code",
   "execution_count": 9,
   "metadata": {},
   "outputs": [
    {
     "name": "stdout",
     "output_type": "stream",
     "text": [
      "*********Sorting w*********\n",
      "*********Sorting m*********\n",
      "*********Sorting s*********\n",
      "*********Sorting n*********\n"
     ]
    }
   ],
   "source": [
    "import data_process as dp\n",
    "import data_graph as dg\n",
    "\n",
    "# establish universal regions, plus a scrap bin\n",
    "region_list = [\"w\", \"m\", \"s\", \"n\"]\n",
    "\n",
    "# request dataset from online and store it in a variable\n",
    "# data_fetch.write_to_csv(\n",
    "# \"https://www.ncei.noaa.gov/archive/archive-management-system/OAS/bin/prd/jquery/download/209268.17.17.tar.gz\",\n",
    "# \"209268.17.17.tar.gz\",\n",
    "# )\n",
    "\n",
    "disaster_data = dp.read_csv_to_var(\n",
    "    \"./0209268/17.17/data/0-data/events-US-1980-2023.csv\"\n",
    ")\n",
    "\n",
    "# modify dates to be less specific years\n",
    "dp.parse_all_years(disaster_data)\n",
    "\n",
    "# universal variables\n",
    "all_years = dp.retrieve_unique_years(disaster_data)\n",
    "all_disaster_types = dp.retrieve_unique_disaster_types(disaster_data)\n",
    "year_buckets = [] # TO FILL. buckets to group time data by (one/four/five/ten-year groups)\n",
    "\n",
    "# convert the raw data (sorted by region) into graphable blocks of data\n",
    "region_dict = dp.fill_all_regions(disaster_data, region_list)\n",
    "cost_of_regions, deaths_of_regions = dp.organize_regions(region_dict, all_years, all_disaster_types)\n"
   ]
  },
  {
   "cell_type": "markdown",
   "metadata": {},
   "source": [
    "now we graph!"
   ]
  },
  {
   "cell_type": "code",
   "execution_count": 11,
   "metadata": {},
   "outputs": [
    {
     "name": "stdout",
     "output_type": "stream",
     "text": [
      "{'Flooding': [0, 0, 4693.8, 1220.0, 0, 0, 0, 0, 0, 0, 0, 0, 0, 0, 5100.0, 2006.5, 5822.8, 0, 0, 0, 0, 0, 0, 0, 0, 0, 0, 0, 0, 0, 0, 0, 1976.1, 0, 0, 0, 1890.0, 0, 0, 0, 1281.2, 4635.0, 0], 'Tropical Cyclone': [0, 0, 0, 0, 0, 0, 0, 0, 0, 0, 0, 6727.0, 0, 0, 0, 0, 0, 0, 0, 0, 0, 0, 0, 0, 0, 0, 0, 0, 0, 0, 0, 0, 0, 0, 0, 0, 0, 0, 0, 0, 0, 0, 0], 'Drought': [0, 0, 0, 0, 0, 0, 0, 0, 0, 0, 0, 0, 0, 0, 0, 0, 0, 0, 0, 0, 0, 0, 0, 0, 0, 0, 5378.0, 0, 0, 0, 0, 0, 0, 5176.8, 5850.6, 0, 0, 0, 0, 0, 9864.5, 0, 0], 'Freeze': [0, 0, 0, 0, 0, 0, 0, 0, 0, 8194.0, 0, 0, 0, 0, 0, 0, 0, 4750.0, 0, 0, 0, 0, 0, 0, 0, 0, 2128.0, 0, 0, 0, 0, 0, 0, 0, 0, 0, 0, 0, 0, 0, 0, 0, 0], 'Severe Storm': [0, 0, 0, 0, 0, 0, 1488.8, 0, 0, 1927.1, 0, 0, 0, 0, 0, 0, 1908.5, 0, 0, 0, 0, 0, 0, 1125.9, 0, 0, 0, 0, 1430.0, 5320.0, 0, 0, 0, 0, 0, 0, 0, 4915.4, 1209.6, 0, 0, 0, 0], 'Winter Storm': [0, 0, 0, 0, 0, 0, 0, 0, 0, 0, 0, 0, 0, 0, 0, 0, 0, 0, 0, 0, 0, 0, 0, 0, 0, 0, 0, 0, 0, 0, 0, 0, 0, 0, 0, 0, 0, 0, 0, 0, 0, 0], 'Wildfire': [0, 0, 0, 0, 0, 0, 0, 0, 0, 1666.1, 7359.0, 0, 2907.6, 1500.9, 0, 0, 0, 0, 0, 1924.4, 0, 2248.8, 6458.1, 0, 0, 0, 4029.7, 0, 1436.8, 0, 0, 2329.6, 0, 0, 3906.1, 0, 22506.3, 29280.0, 5400.0, 19411.0, 11752.1, 3234.4, 5555.0]}\n"
     ]
    }
   ],
   "source": []
  }
 ],
 "metadata": {
  "kernelspec": {
   "display_name": "base",
   "language": "python",
   "name": "python3"
  },
  "language_info": {
   "codemirror_mode": {
    "name": "ipython",
    "version": 3
   },
   "file_extension": ".py",
   "mimetype": "text/x-python",
   "name": "python",
   "nbconvert_exporter": "python",
   "pygments_lexer": "ipython3",
   "version": "3.11.5"
  }
 },
 "nbformat": 4,
 "nbformat_minor": 2
}
