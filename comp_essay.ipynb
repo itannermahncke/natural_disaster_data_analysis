{
 "cells": [
  {
   "cell_type": "code",
   "execution_count": 22,
   "metadata": {},
   "outputs": [
    {
     "ename": "AttributeError",
     "evalue": "module 'data_process' has no attribute 'organize_regions'",
     "output_type": "error",
     "traceback": [
      "\u001b[0;31m---------------------------------------------------------------------------\u001b[0m",
      "\u001b[0;31mAttributeError\u001b[0m                            Traceback (most recent call last)",
      "Cell \u001b[0;32mIn[22], line 22\u001b[0m\n\u001b[1;32m     20\u001b[0m \u001b[38;5;66;03m# convert the raw data (sorted by region) into graphable blocks of data\u001b[39;00m\n\u001b[1;32m     21\u001b[0m region_dict \u001b[38;5;241m=\u001b[39m dp\u001b[38;5;241m.\u001b[39mfill_all_regions(disaster_data, region_list)\n\u001b[0;32m---> 22\u001b[0m cost_of_regions, deaths_of_regions \u001b[38;5;241m=\u001b[39m dp\u001b[38;5;241m.\u001b[39morganize_regions(region_dict)\n",
      "\u001b[0;31mAttributeError\u001b[0m: module 'data_process' has no attribute 'organize_regions'"
     ]
    }
   ],
   "source": [
    "import data_process as dp\n",
    "import data_graph as dg\n",
    "\n",
    "# establish universal regions, plus a scrap bin\n",
    "region_list = [\"w\", \"m\", \"s\", \"n\", \"empty\"]\n",
    "\n",
    "# request dataset from online and store it in a variable\n",
    "# data_fetch.write_to_csv(\n",
    "# \"https://www.ncei.noaa.gov/archive/archive-management-system/OAS/bin/prd/jquery/download/209268.17.17.tar.gz\",\n",
    "# \"209268.17.17.tar.gz\",\n",
    "# )\n",
    "\n",
    "disaster_data = dp.read_csv_to_var(\n",
    "    \"./0209268/17.17/data/0-data/events-US-1980-2023.csv\"\n",
    ")\n",
    "\n",
    "# modify dates to be less specific years\n",
    "dp.parse_all_years(disaster_data)\n",
    "\n",
    "# convert the raw data (sorted by region) into graphable blocks of data\n",
    "region_dict = dp.fill_all_regions(disaster_data, region_list)\n",
    "cost_of_regions, deaths_of_regions = dp.organize_regions(region_dict)\n"
   ]
  },
  {
   "cell_type": "markdown",
   "metadata": {},
   "source": [
    "now we test print!"
   ]
  },
  {
   "cell_type": "code",
   "execution_count": 16,
   "metadata": {},
   "outputs": [
    {
     "name": "stdout",
     "output_type": "stream",
     "text": [
      "{'1980': [['Flooding', 2678.6, 7.0], ['Tropical Cyclone', 2177.2, 13.0]], '1981': [['Freeze', 2019.2, 0.0]], '1982': [['Flooding', 4807.9, 45.0]], '1983': [['Tropical Cyclone', 9180.0, 21.0], ['Drought', 9307.3, 0.0]], '1985': [['Freeze', 3492.0, 0.0], ['Tropical Cyclone', 3684.6, 4.0]], '1986': [['Drought', 5050.2, 100.0]], '1989': [['Severe Storm', 1367.6, 21.0], ['Tropical Cyclone', 23584.8, 97.0], ['Freeze', 5080.0, 10.0]], '1990': [['Flooding', 2396.3, 13.0]], '1992': [['Tropical Cyclone', 58860.0, 61.0], ['Severe Storm', 1418.9, 26.0]], '1993': [['Drought', 2704.8, 16.0]], '1994': [['Winter Storm', 6264.7, 9.0], ['Tropical Cyclone', 2066.9, 32.0], ['Flooding', 2050.0, 19.0]], '1995': [['Severe Storm', 1161.5, 0.0], ['Tropical Cyclone', 11086.5, 33.0]], '1996': [['Tropical Cyclone', 9763.8, 37.0]], '1997': [['Severe Storm', 1877.0, 67.0]], '1998': [['Tropical Cyclone', 14409.3, 21.0], ['Drought', 6703.3, 200.0], ['Flooding', 1761.7, 31.0]], '1999': [['Tropical Cyclone', 11878.5, 77.0]], '2000': [['Winter Storm', 1284.9, 4.0], ['Severe Storm', 1235.1, 0.0], ['Flooding', 1584.0, 3.0]], '2001': [['Tropical Cyclone', 14743.1, 43.0]], '2002': [['Tropical Cyclone', 3832.7, 7.0]], '2003': [['Severe Storm', 1683.8, 7.0], ['Tropical Cyclone', 9103.5, 55.0]], '2004': [['Tropical Cyclone', 87150.8, 168.0]], '2005': [['Severe Storm', 1375.4, 0.0], ['Tropical Cyclone', 256713.30000000002, 2002.0]], '2007': [['Severe Storm', 3736.7, 9.0]], '2008': [['Severe Storm', 4872.2, 64.0], ['Tropical Cyclone', 52168.3, 168.0]], '2009': [['Severe Storm', 4582.700000000001, 16.0], ['Flooding', 1275.9, 10.0]], '2010': [['Flooding', 3218.0, 32.0]], '2011': [['Severe Storm', 1421.4, 0.0], ['Flooding', 4150.5, 7.0], ['Tropical Cyclone', 3392.1, 21.0]], '2012': [['Severe Storm', 5543.0, 42.0], ['Tropical Cyclone', 3675.4, 9.0]], '2013': [['Severe Storm', 3883.5, 2.0]], '2015': [['Severe Storm', 2896.3, 3.0], ['Flooding', 5853.1, 56.0]], '2016': [['Severe Storm', 13109.6, 17.0], ['Flooding', 19439.1, 26.0], ['Tropical Cyclone', 12700.0, 49.0]], '2017': [['Freeze', 1260.0, 0.0], ['Severe Storm', 5750.7, 1.0], ['Tropical Cyclone', 328600.0, 3167.0], ['Drought', 3150.0, 0.0]], '2018': [['Severe Storm', 4993.5, 3.0], ['Tropical Cyclone', 59499.8, 102.0]], '2019': [['Severe Storm', 5176.6, 7.0], ['Flooding', 3630.0, 5.0], ['Tropical Cyclone', 7932.0, 15.0]], '2020': [['Severe Storm', 11580.3, 73.0], ['Tropical Cyclone', 53099.700000000004, 86.0]], '2021': [['Severe Storm', 8750.2, 10.0], ['Flooding', 1530.1, 5.0], ['Tropical Cyclone', 86327.4, 104.0]], '2022': [['Severe Storm', 6770.1, 6.0], ['Tropical Cyclone', 119933.0, 182.0]], '2023': [['Severe Storm', 17556.9, 36.0], ['Flooding', 1111.0, 0.0], ['Tropical Cyclone', 3490.6, 5.0]]}\n"
     ]
    }
   ],
   "source": [
    "print(cost_of_regions[\"s\"])"
   ]
  }
 ],
 "metadata": {
  "kernelspec": {
   "display_name": "base",
   "language": "python",
   "name": "python3"
  },
  "language_info": {
   "codemirror_mode": {
    "name": "ipython",
    "version": 3
   },
   "file_extension": ".py",
   "mimetype": "text/x-python",
   "name": "python",
   "nbconvert_exporter": "python",
   "pygments_lexer": "ipython3",
   "version": "3.11.5"
  }
 },
 "nbformat": 4,
 "nbformat_minor": 2
}
